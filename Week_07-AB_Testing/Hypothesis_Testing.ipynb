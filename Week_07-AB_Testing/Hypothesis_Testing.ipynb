{
  "cells": [
    {
      "cell_type": "markdown",
      "metadata": {
        "id": "view-in-github",
        "colab_type": "text"
      },
      "source": [
        "<a href=\"https://colab.research.google.com/github/gitmystuff/DTSC4050/blob/main/Week_07-AB_Testing/Hypothesis_Testing.ipynb\" target=\"_parent\"><img src=\"https://colab.research.google.com/assets/colab-badge.svg\" alt=\"Open In Colab\"/></a>"
      ]
    },
    {
      "cell_type": "markdown",
      "id": "3f84910f",
      "metadata": {
        "id": "3f84910f"
      },
      "source": [
        "# Hypothesis Testing\n",
        "\n",
        "Hypothesis testing is a statistical method used to make inferences about a population based on evidence from a sample. It's a way to determine whether there's enough evidence to reject a null hypothesis, which is a statement of no effect or no difference.\n",
        "\n",
        "Here's a breakdown of the key components:\n",
        "\n",
        "**1. Hypotheses:**\n",
        "\n",
        "* **Null Hypothesis (H0):** This is the default assumption, stating that there's no effect, no difference, or no relationship between variables.\n",
        "* **Alternative Hypothesis (Ha or H1):** This contradicts the null hypothesis and proposes the effect or relationship you're interested in investigating.\n",
        "\n",
        "**2. Data Collection:**\n",
        "\n",
        "* You collect data from a sample of the population.\n",
        "\n",
        "**3. Test Statistic:**\n",
        "\n",
        "* You calculate a test statistic, which measures how far your sample data deviates from what you'd expect if the null hypothesis were true.\n",
        "\n",
        "**4. P-value:**\n",
        "\n",
        "* You determine the p-value, which is the probability of observing your sample data (or more extreme data) if the null hypothesis were actually true.\n",
        "\n",
        "**5. Decision:**\n",
        "\n",
        "* You compare the p-value to a significance level (alpha), typically set at 0.05.\n",
        "* If the p-value is less than alpha, you reject the null hypothesis, suggesting that there's evidence to support the alternative hypothesis.\n",
        "* If the p-value is greater than or equal to alpha, you fail to reject the null hypothesis, meaning there's not enough evidence to support the alternative hypothesis.\n",
        "\n",
        "**In simpler terms:**\n",
        "\n",
        "Imagine you're trying to determine if a new drug is effective. Your null hypothesis would be that the drug has no effect. You'd conduct a study, collect data, and perform a hypothesis test. If the results show a very low probability of getting those results if the drug truly had no effect, you'd reject the null hypothesis and conclude that the drug likely *does* have an effect.\n",
        "\n",
        "**Key Uses:**\n",
        "\n",
        "* **A/B testing:** Comparing two versions of something to see which performs better.\n",
        "* **Scientific research:** Testing hypotheses about relationships between variables.\n",
        "* **Medical trials:** Determining if a new treatment is effective.\n",
        "* **Business decisions:** Evaluating the impact of a new strategy or product.\n",
        "\n",
        "Hypothesis testing helps you make data-driven decisions by providing a framework for evaluating evidence and drawing conclusions.\n",
        "\n"
      ]
    },
    {
      "cell_type": "markdown",
      "source": [
        "## Degrees of Freedom\n",
        "\n",
        "Degrees of freedom (df) are a crucial concept when dealing with t-distributions and hypothesis testing. They represent the number of independent pieces of information available to estimate a parameter.\n",
        "\n",
        "Here's why degrees of freedom are relevant:\n",
        "\n",
        "**1. Shape of the t-distribution:**\n",
        "\n",
        "The t-distribution is a family of distributions that vary in shape depending on the degrees of freedom.\n",
        "\n",
        "* **Low df:** With fewer degrees of freedom (smaller sample sizes), the t-distribution has heavier tails and a lower peak compared to the standard normal distribution. This reflects greater uncertainty due to limited sample data.\n",
        "* **High df:** As degrees of freedom increase (larger sample sizes), the t-distribution approaches the standard normal distribution. This is because with more data, we have more information and greater certainty about the population parameters.\n",
        "\n",
        "**2. Critical values and p-values:**\n",
        "\n",
        "When performing hypothesis tests with t-distributions, the critical values and p-values depend on the degrees of freedom.\n",
        "\n",
        "* **Critical values:** The critical t-value that separates the rejection region from the non-rejection region is determined by the degrees of freedom and the chosen significance level.\n",
        "* **p-values:** The p-value, which represents the probability of observing data as extreme as ours if the null hypothesis were true, is also calculated based on the degrees of freedom and the t-statistic.\n",
        "\n",
        "**3. Accurate inferences:**\n",
        "\n",
        "Using the correct degrees of freedom ensures that we make accurate inferences about the population based on our sample data. If we use the wrong degrees of freedom, we may end up with incorrect critical values, p-values, and ultimately, wrong conclusions about our hypotheses.\n",
        "\n",
        "**In the context of your die roll example:**\n",
        "\n",
        "The degrees of freedom (df = 19, since you had 20 rolls) influence the shape of the t-distribution used to analyze your data. This, in turn, affects the critical t-value and the p-value, which are used to determine whether your die is fair or biased.\n",
        "\n",
        "**In essence:**\n",
        "\n",
        "Degrees of freedom reflect the amount of information available in your data. By accounting for degrees of freedom, we can make more accurate and reliable inferences about the population we're studying."
      ],
      "metadata": {
        "id": "BdejJ4kmyAuS"
      },
      "id": "BdejJ4kmyAuS"
    },
    {
      "cell_type": "code",
      "source": [
        "import numpy as np\n",
        "import seaborn as sns\n",
        "import matplotlib.pyplot as plt\n",
        "import scipy.stats as stats\n",
        "\n",
        "# Generate data from a t-distribution with heavy tails (low degrees of freedom)\n",
        "df = 3  # Degrees of freedom (lower df = heavier tails)\n",
        "t_data = np.random.standard_t(df, size=10)\n",
        "\n",
        "# Generate data from a standard normal distribution\n",
        "normal_data = np.random.normal(size=1000)\n",
        "\n",
        "# Plot KDEs\n",
        "sns.kdeplot(t_data, label=f\"T-distribution (df={df})\", fill=True)\n",
        "sns.kdeplot(normal_data, label=\"Normal Distribution\", fill=True)\n",
        "plt.xlabel(\"Value\")\n",
        "plt.ylabel(\"Density\")\n",
        "plt.title(\"KDE of T-distribution with Heavy Tails vs. Normal Distribution\")\n",
        "plt.legend()\n",
        "plt.show()"
      ],
      "metadata": {
        "colab": {
          "base_uri": "https://localhost:8080/",
          "height": 472
        },
        "id": "kYLGDnQYBBBU",
        "outputId": "70b53e8e-f678-4362-d64a-8573e6417b80"
      },
      "id": "kYLGDnQYBBBU",
      "execution_count": null,
      "outputs": [
        {
          "output_type": "display_data",
          "data": {
            "text/plain": [
              "<Figure size 640x480 with 1 Axes>"
            ],
            "image/png": "[encoded data removed]"
          },
          "metadata": {}
        }
      ]
    },
    {
      "cell_type": "markdown",
      "source": [
        "A t-distribution has heavier tails than a normal distribution due to its higher degree of uncertainty or variability. This higher variability stems from the fact that it is used when the population standard deviation is unknown and must be estimated from the sample.\n",
        "\n",
        "Here's a breakdown of why this happens:\n",
        "\n",
        "1. **Estimating the Standard Deviation:** When the population standard deviation is unknown, we use the sample standard deviation (s) as an estimate. However, s is itself a random variable and subject to variability.\n",
        "\n",
        "2. **Increased Uncertainty:** This estimation of the standard deviation introduces additional uncertainty into the distribution. This uncertainty leads to a wider spread of the data, including more extreme values in the tails.\n",
        "\n",
        "3. **Degrees of Freedom:** The shape of the t-distribution is also influenced by the degrees of freedom (df), which are related to the sample size. Smaller sample sizes (and lower df) result in even heavier tails because there's less information to accurately estimate the population standard deviation.\n",
        "\n",
        "4. **Impact on Tails:** The combination of estimating the standard deviation and lower degrees of freedom causes the t-distribution to have more probability mass in the tails compared to the normal distribution. This means that there's a higher chance of observing extreme values when sampling from a population where the standard deviation is unknown.\n",
        "\n",
        "**In simpler terms:**\n",
        "\n",
        "Imagine you're trying to estimate the average height of all students in a school, but you can only measure a small sample. Because you don't know the true variability in heights across the entire school, your estimate will be less precise. This lack of precision translates to a wider distribution with heavier tails, as there's a greater chance of encountering unusually tall or short students in your small sample.\n",
        "\n",
        "**Key takeaway:**\n",
        "\n",
        "The heavier tails of the t-distribution reflect the increased uncertainty when working with samples and estimating population parameters. This is why it's important to use the t-distribution instead of the normal distribution when the population standard deviation is unknown, especially for small sample sizes."
      ],
      "metadata": {
        "id": "B_ZKLPmWB4xW"
      },
      "id": "B_ZKLPmWB4xW"
    },
    {
      "cell_type": "markdown",
      "source": [
        "## Confidence Intervals\n",
        "\n",
        "Informally, in frequentist statistics, a confidence interval (CI) is an interval which is expected to typically contain the parameter being estimated. More specifically, given a confidence level\n",
        "(95% and 99% are typical values), a CI is a random interval which contains the parameter being estimated a % of the time.\n",
        "\n",
        "https://en.wikipedia.org/wiki/Confidence_interval"
      ],
      "metadata": {
        "id": "mHjTAwE1pQTP"
      },
      "id": "mHjTAwE1pQTP"
    },
    {
      "cell_type": "markdown",
      "source": [
        "## Significance Level\n",
        "\n",
        "In statistical hypothesis testing, the significance level, often denoted by the Greek letter alpha (α), is a crucial concept. Here's a breakdown:\n",
        "\n",
        "**Core Definition:**\n",
        "\n",
        "* The significance level is the probability of rejecting the null hypothesis when it is actually true. In simpler terms, it's the risk you're willing to take of making a \"false positive\" conclusion.\n",
        "* A \"false positive\" (also known as a Type I error) occurs when you conclude that there is a statistically significant effect when, in reality, there is no such effect.\n",
        "\n",
        "**Key Points:**\n",
        "\n",
        "* **Threshold:**\n",
        "    * The significance level acts as a threshold. If the probability of observing your results (or more extreme results) under the null hypothesis (the p-value) is less than the significance level, you reject the null hypothesis.\n",
        "* **Common Values:**\n",
        "    * The most commonly used significance level is 0.05 (or 5%). This means there's a 5% chance of rejecting the null hypothesis when it's true.\n",
        "    * Other common values include 0.01 (1%) and 0.10 (10%).\n",
        "* **Researcher's Choice:**\n",
        "    * The choice of significance level depends on the context of the study and the consequences of making a Type I error.\n",
        "    * In situations where a false positive could have serious consequences (e.g., medical research), a lower significance level (e.g., 0.01) is often used.\n",
        "* **Relationship to P-value:**\n",
        "    * The p-value is the probability of obtaining the observed results (or more extreme results) if the null hypothesis is true.\n",
        "    * If the p-value is less than or equal to the significance level (p ≤ α), you reject the null hypothesis.\n",
        "\n",
        "**In essence:**\n",
        "\n",
        "* The significance level helps researchers determine whether their findings are statistically significant, meaning they are unlikely to have occurred by chance.\n"
      ],
      "metadata": {
        "id": "hx_yIV5AeiO3"
      },
      "id": "hx_yIV5AeiO3"
    },
    {
      "cell_type": "markdown",
      "source": [
        "## The p-Value\n",
        "\n",
        "The p-value is a fundamental concept in statistical hypothesis testing. It quantifies the strength of evidence against the null hypothesis. Here's a comprehensive explanation:\n",
        "\n",
        "**Definition:**\n",
        "\n",
        "* The p-value is the probability of obtaining results as extreme as, or more extreme than, the observed results, assuming the null hypothesis is true.\n",
        "* In simpler terms, it measures how likely your observed data is if the null hypothesis were correct.\n",
        "\n",
        "**Key Points:**\n",
        "\n",
        "* **Probability:**\n",
        "    * The p-value is a probability, so it ranges from 0 to 1.\n",
        "* **Null Hypothesis:**\n",
        "    * It's calculated under the assumption that the null hypothesis is true.\n",
        "* **Extreme Results:**\n",
        "    * \"Extreme\" is defined relative to the hypothesis being tested. If it is a two tailed test, extreme means far away from the mean in either direction. If it is a one tailed test, extreme means far away from the mean in the direction of the alternative hypothesis.\n",
        "* **Decision Rule:**\n",
        "    * The p-value is compared to the significance level (alpha, α) to make a decision:\n",
        "        * If p ≤ α, reject the null hypothesis.\n",
        "        * If p > α, fail to reject the null hypothesis.\n",
        "* **Strength of Evidence:**\n",
        "    * A small p-value (e.g., p < 0.05) indicates strong evidence against the null hypothesis.\n",
        "    * A large p-value (e.g., p > 0.05) indicates weak evidence against the null hypothesis. It does *not* mean the null hypothesis is true.\n",
        "\n",
        "**How to Interpret the P-value:**\n",
        "\n",
        "* **Small P-value (e.g., p < 0.05):**\n",
        "    * The observed results are unlikely to have occurred by chance alone if the null hypothesis were true.\n",
        "    * This provides evidence to reject the null hypothesis in favor of the alternative hypothesis.\n",
        "* **Large P-value (e.g., p > 0.05):**\n",
        "    * The observed results are reasonably likely to have occurred by chance alone if the null hypothesis were true.\n",
        "    * This does not provide sufficient evidence to reject the null hypothesis.\n",
        "    * It is very important to reiterate that failure to reject the null hypothesis does not mean that it is true.\n",
        "\n",
        "**Example:**\n",
        "\n",
        "* Suppose you're testing whether a new drug improves reaction time.\n",
        "* Null hypothesis: The drug has no effect on reaction time.\n",
        "* Alternative hypothesis: The drug improves reaction time.\n",
        "* You conduct an experiment and calculate a p-value of 0.02.\n",
        "* Interpretation: There's a 2% chance of observing the results you obtained if the drug had no effect. Since 0.02 is less than 0.05, you reject the null hypothesis and conclude that the drug likely improves reaction time.\n",
        "\n",
        "**Important Considerations:**\n",
        "\n",
        "* **P-value is not the probability that the null hypothesis is true.** It's the probability of the observed data given the null hypothesis is true.\n",
        "* **Statistical significance does not equal practical significance.** A statistically significant result may not be meaningful in a real-world context.\n",
        "* **P-values should be interpreted in the context of the study design and other relevant factors.**\n"
      ],
      "metadata": {
        "id": "L7Fl6H4ZiUEq"
      },
      "id": "L7Fl6H4ZiUEq"
    },
    {
      "cell_type": "markdown",
      "source": [
        "## Alpha and p-Value\n",
        "\n",
        "The relationship between alpha (α), the significance level, and the p-value is fundamental to hypothesis testing. Here's a clear explanation:\n",
        "\n",
        "**Core Relationship: Comparison for Decision-Making**\n",
        "\n",
        "The key is that you *compare* the p-value to alpha to make a decision about whether to reject the null hypothesis.\n",
        "\n",
        "**Here's how it works:**\n",
        "\n",
        "1.  **Alpha (α): The Significance Level**\n",
        "\n",
        "    * Alpha is the predetermined threshold for statistical significance. It represents the maximum probability of making a Type I error (rejecting a true null hypothesis) that you are willing to accept.\n",
        "    * Common values are 0.05, 0.01, and 0.10.\n",
        "    * Alpha is set *before* conducting the hypothesis test.\n",
        "\n",
        "2.  **P-value: The Probability of Observed Results**\n",
        "\n",
        "    * The p-value is calculated *after* conducting the hypothesis test.\n",
        "    * It represents the probability of obtaining the observed results (or more extreme results) if the null hypothesis were true.\n",
        "\n",
        "3.  **The Decision Rule: Comparing P-value and Alpha**\n",
        "\n",
        "    * **If the p-value is less than or equal to alpha (p ≤ α):**\n",
        "        * This means the observed results are unlikely to have occurred by chance alone if the null hypothesis were true.\n",
        "        * Therefore, you **reject the null hypothesis**.\n",
        "        * The results are considered statistically significant.\n",
        "    * **If the p-value is greater than alpha (p > α):**\n",
        "        * This means the observed results are reasonably likely to have occurred by chance alone if the null hypothesis were true.\n",
        "        * Therefore, you **fail to reject the null hypothesis**.\n",
        "        * The results are not considered statistically significant.\n",
        "\n",
        "**In simpler terms:**\n",
        "\n",
        "* Alpha is the \"line in the sand\" you draw before the test. It defines how much risk you're willing to take of being wrong when you reject the null hypothesis.\n",
        "* The p-value tells you where your data falls in relation to that line.\n",
        "* If your data falls \"on the wrong side\" of the line (p ≤ α), you reject the null hypothesis.\n",
        "* If your data falls \"on the correct side\" of the line (p > α), you fail to reject the null hypothesis.\n",
        "\n",
        "**Example:**\n",
        "\n",
        "* Alpha = 0.05\n",
        "* P-value = 0.03\n",
        "* Decision: Since 0.03 ≤ 0.05, you reject the null hypothesis.\n",
        "\n",
        "* Alpha = 0.05\n",
        "* P-value = 0.10\n",
        "* Decision: Since 0.10 > 0.05, you fail to reject the null hypothesis.\n"
      ],
      "metadata": {
        "id": "jDxoTiYJifAj"
      },
      "id": "jDxoTiYJifAj"
    },
    {
      "cell_type": "markdown",
      "source": [
        "## Critical Value\n",
        "\n",
        "The critical value is a crucial concept in hypothesis testing, acting as a threshold for determining statistical significance. Here's a breakdown:\n",
        "\n",
        "**Core Definition:**\n",
        "\n",
        "* The critical value is a point (or points) on the scale of the test statistic beyond which we reject the null hypothesis.\n",
        "* It's determined by the chosen significance level (alpha) and the distribution of the test statistic (e.g., z-distribution, t-distribution).\n",
        "\n",
        "**How It Works:**\n",
        "\n",
        "1.  **Significance Level (Alpha):**\n",
        "    * The significance level (α) represents the probability of a Type I error (rejecting a true null hypothesis).\n",
        "2.  **Test Statistic:**\n",
        "    * A test statistic (e.g., z-score, t-score) is calculated from the sample data to measure how far the sample result deviates from the null hypothesis.\n",
        "3.  **Distribution:**\n",
        "    * The test statistic follows a specific probability distribution (e.g., standard normal distribution, t-distribution).\n",
        "4.  **Critical Region:**\n",
        "    * The critical value(s) define the boundaries of the critical region (or rejection region).\n",
        "    * If the calculated test statistic falls within the critical region, we reject the null hypothesis.\n",
        "5.  **Decision:**\n",
        "    * If the absolute value of the calculated test statistic is greater than or equal to the critical value, we reject the null hypothesis.\n",
        "    * If the absolute value of the calculated test statistic is less than the critical value, we fail to reject the null hypothesis.\n",
        "\n",
        "**Types of Critical Values:**\n",
        "\n",
        "* **Two-tailed test:**\n",
        "    * There are two critical values, one in each tail of the distribution.\n",
        "    * Used when testing for differences in either direction.\n",
        "* **One-tailed test:**\n",
        "    * There is one critical value, located in either the right or left tail of the distribution.\n",
        "    * Used when testing for differences in a specific direction (e.g., greater than or less than).\n",
        "\n",
        "**Example:**\n",
        "\n",
        "* In a two-tailed z-test with a 95% confidence level (α = 0.05), the critical values are ±1.96.\n",
        "* If the calculated z-score is 2.5, it falls within the critical region (beyond 1.96), so we reject the null hypothesis.\n",
        "* If the calculated z score was 1.5 it would not fall within the critical region, so we would fail to reject the null hypothesis.\n",
        "\n",
        "**In summary:**\n",
        "\n",
        "* The critical value acts as a dividing line, helping us decide whether our sample data provides enough evidence to reject the null hypothesis.\n",
        "* It is directly related to the significance level, and the type of test being conducted.\n"
      ],
      "metadata": {
        "id": "Kh6lajE-e_NU"
      },
      "id": "Kh6lajE-e_NU"
    },
    {
      "cell_type": "markdown",
      "source": [
        "## The Critical Value and the Test Statistic\n",
        "\n",
        "The critical value and the test statistic work together to determine whether to reject the null hypothesis in a hypothesis test. Here's how they relate:\n",
        "\n",
        "**The Core Relationship: Comparison**\n",
        "\n",
        "The fundamental relationship is a *comparison*. You compare the calculated test statistic to the critical value(s) to make a decision.\n",
        "\n",
        "**Here's a breakdown:**\n",
        "\n",
        "1.  **Test Statistic:**\n",
        "* The test statistic is a value calculated from your sample data. It summarizes how far your sample data deviates from what the null hypothesis predicts.\n",
        "* Examples: z-score, t-score, F-statistic, chi-square statistic.\n",
        "* z population: $z = \\frac{x - \\mu}{\\sigma}$\n",
        "* z sample: $z = \\frac{x - \\bar{x}}{s}$\n",
        "* The t-score is used when the population standard deviation is unknown and the sample size is small. It represents the number of standard errors a sample mean is from the population mean. The formula for the t-score is:\n",
        "* $t = \\frac{\\bar{x} - \\mu}{s / \\sqrt{n}}$\n",
        "\n",
        "The degrees of freedom influence the critical values used in hypothesis testing with the t-distribution. As the degrees of freedom increase, the t-distribution approaches the standard normal (z) distribution.\n",
        "\n",
        "* **T-score formula:**\n",
        "  * The t-score formula calculates the test statistic (t-value). It tells you how many standard errors the sample mean is away from the population mean.\n",
        "  * `t = (x̄ - μ) / (s / √n)`\n",
        "  * This formula does not contain \"df.\"\n",
        "\n",
        "* **Degrees of Freedom (df):**\n",
        "  * The degrees of freedom determine the *shape* of the t-distribution.\n",
        "  * The t-distribution is a family of distributions, and the df specify which particular distribution to use.\n",
        "  * For a one-sample t-test, df = n - 1 (sample size minus 1).\n",
        "  * **Where df is used:**\n",
        "      * **Finding critical values:** When you look up critical t-values in a t-table or use a statistical function (like `scipy.stats.t.ppf()` in Python), you need to provide the degrees of freedom.\n",
        "      * **Calculating p-values:** When you calculate the p-value associated with your t-score, you also need to provide the degrees of freedom.\n",
        "\n",
        "* **Relationship:**\n",
        "  * The t-score is the test statistic.\n",
        "  * The degrees of freedom are a parameter that determines the appropriate t-distribution to use for interpreting that test statistic.\n",
        "  * The df are used to find where the t score falls on the t distribution.\n",
        "\n",
        "**In essence:**\n",
        "\n",
        "* The t-score tells you *where* your sample mean falls on the t-distribution.\n",
        "* The degrees of freedom tell you *which* t-distribution to use.\n",
        "\n",
        "Therefore, while \"df\" is not in the t-score formula, it is indispensable when you take that t-score and use it to perform statistical inference.\n",
        "\n",
        "2.  **Critical Value:**\n",
        "* The critical value is a threshold determined by:\n",
        "    * The chosen significance level (alpha).\n",
        "    * The type of hypothesis test (one-tailed or two-tailed).\n",
        "    * The distribution of the test statistic.\n",
        "* It defines the boundaries of the \"critical region\" or \"rejection region.\"\n",
        "\n",
        "3.  **Comparison and Decision:**\n",
        "* **If the absolute value of the test statistic is greater than or equal to the critical value:**\n",
        "    * The test statistic falls within the critical region.\n",
        "    * This means the sample data provides strong evidence against the null hypothesis.\n",
        "    * You **reject the null hypothesis**.\n",
        "    * Essentially, the data is far enough from what the null hypothesis predicts that it is unlikely to have occured by random chance.\n",
        "* **If the absolute value of the test statistic is less than the critical value:**\n",
        "    * The test statistic does not fall within the critical region.\n",
        "    * The sample data does not provide enough evidence to reject the null hypothesis.\n",
        "    * You **fail to reject the null hypothesis**.\n",
        "    * The data is not far enough away from the null hypothesis to say that the null hypothesis is likely false.\n",
        "\n",
        "**Visualizing the Relationship:**\n",
        "\n",
        "Imagine a bell curve (like a standard normal distribution):\n",
        "\n",
        "* The critical values are like lines drawn on the x-axis, marking off the tails of the distribution.\n",
        "* The test statistic is a point on the x-axis, representing your sample data.\n",
        "* If the point falls beyond the lines (in the tails), you reject the null hypothesis. If it falls between the lines, you fail to reject.\n",
        "\n",
        "**In simpler terms:**\n",
        "\n",
        "* The critical value sets the \"bar\" for how extreme your sample data needs to be to be considered statistically significant.\n",
        "* The test statistic tells you how extreme your sample data actually is.\n",
        "* If your data is more extreme than the bar, you reject the null hypothesis.\n"
      ],
      "metadata": {
        "id": "k98SU0z0fQXU"
      },
      "id": "k98SU0z0fQXU"
    },
    {
      "cell_type": "markdown",
      "source": [
        "## The Standard Error\n",
        "\n",
        "**Understanding the Z-test**\n",
        "\n",
        "The z-test is used to compare a sample mean (x̄) to a population mean (μ) when you know the population standard deviation (σ). The goal is to determine if the sample mean is significantly different from the population mean.\n",
        "\n",
        "**The Role of Standard Error**\n",
        "\n",
        "* **Sampling Distribution:** When you take multiple samples from a population, the sample means will vary. This distribution of sample means is called the sampling distribution of the mean.\n",
        "* **Standard Error:** The standard error of the mean (SEM) is the standard deviation of the sampling distribution of the mean. It quantifies how much the sample means are expected to vary from the population mean.\n",
        "* **Formula for SEM:** SEM = σ / √n\n",
        "    * σ (sigma) is the population standard deviation.\n",
        "    * n is the sample size.\n",
        "\n",
        "**Why Divide by √n?**\n",
        "\n",
        "* **Larger Sample Size, Less Variability:** As the sample size (n) increases, the standard error decreases. This makes sense because larger samples tend to provide more accurate estimates of the population mean, leading to less variability in the sample means.\n",
        "* **Central Limit Theorem:** The Central Limit Theorem states that as the sample size increases, the sampling distribution of the mean approaches a normal distribution, regardless of the shape of the original population distribution. This is why we can use the z-distribution (standard normal distribution) for the z-test when the sample size is sufficiently large.\n",
        "\n",
        "**Z-test Formula and Standard Error**\n",
        "\n",
        "The z-test formula is:\n",
        "\n",
        "```\n",
        "z = (x̄ - μ) / (σ / √n)\n",
        "```\n",
        "\n",
        "By dividing by the standard error (σ / √n), we're essentially standardizing the difference between the sample mean and the population mean. This allows us to compare the difference to the standard normal distribution and determine how likely it is to observe such a difference by chance alone.\n",
        "\n",
        "**In Summary**\n",
        "\n",
        "The standard error of the mean (σ / √n) is a crucial component of the z-test formula. It accounts for the variability of sample means and allows us to standardize the difference between the sample mean and the population mean, enabling us to use the z-distribution for hypothesis testing."
      ],
      "metadata": {
        "id": "zGwwREmjmAop"
      },
      "id": "zGwwREmjmAop"
    },
    {
      "cell_type": "markdown",
      "source": [
        "## Example 1"
      ],
      "metadata": {
        "id": "E2ZTP5NZkYzf"
      },
      "id": "E2ZTP5NZkYzf"
    },
    {
      "cell_type": "markdown",
      "source": [
        "**1. Z-test (Standard Normal Distribution)**\n",
        "\n",
        "* **Formula:**\n",
        "    ```\n",
        "    z = (x̄ - μ) / (σ / √n)\n",
        "    ```\n",
        "    where:\n",
        "    * z is the z-score (test statistic)\n",
        "    * x̄ is the sample mean\n",
        "    * μ is the population mean (or hypothesized mean)\n",
        "    * σ is the population standard deviation\n",
        "    * n is the sample size\n",
        "\n",
        "* **Example:**\n",
        "    Let's say you're testing whether the average height of a certain plant species is different from 10 cm. You collect a sample of 25 plants and find a sample mean of 11 cm with a population standard deviation of 2 cm. To get a test statistic of 2.5:\n",
        "\n",
        "    ```\n",
        "    2.5 = (11 - 10) / (2 / √25)\n",
        "    ```\n",
        "\n",
        "**2. T-test (T-distribution)**\n",
        "\n",
        "* **Formula:**\n",
        "    ```\n",
        "    t = (x̄ - μ) / (s / √n)\n",
        "    ```\n",
        "    where:\n",
        "    * t is the t-score (test statistic)\n",
        "    * x̄ is the sample mean\n",
        "    * μ is the population mean (or hypothesized mean)\n",
        "    * s is the sample standard deviation\n",
        "    * n is the sample size\n",
        "\n",
        "* **Example:**\n",
        "    Similar to the z-test example, but now you don't know the population standard deviation. You find a sample standard deviation of 2.5 cm. To get a test statistic of 2.5:\n",
        "\n",
        "    ```\n",
        "    2.5 = (11 - 10) / (2.5 / √25)\n",
        "    ```\n",
        "\n",
        "**Important Notes:**\n",
        "\n",
        "* In both examples, I manipulated the values to achieve a test statistic of 2.5. In real-world scenarios, you would calculate the test statistic based on your actual sample data.\n",
        "* The choice of z-test or t-test depends on whether you know the population standard deviation and the sample size.\n",
        "* The interpretation of the test statistic (2.5 in this case) depends on the context of the hypothesis test, the significance level, and whether it's a one-tailed or two-tailed test.\n"
      ],
      "metadata": {
        "id": "vKEL4xdalORu"
      },
      "id": "vKEL4xdalORu"
    },
    {
      "cell_type": "code",
      "execution_count": null,
      "id": "33b64da7",
      "metadata": {
        "id": "33b64da7",
        "outputId": "f93d77cd-2a41-4739-fcb5-798824cdf2cc",
        "colab": {
          "base_uri": "https://localhost:8080/",
          "height": 472
        }
      },
      "outputs": [
        {
          "output_type": "display_data",
          "data": {
            "text/plain": [
              "<Figure size 640x480 with 1 Axes>"
            ],
            "image/png": "[encoded data removed]"
          },
          "metadata": {}
        }
      ],
      "source": [
        "# example of one tailed hypothesis\n",
        "import numpy as np\n",
        "import matplotlib.pyplot as plt\n",
        "import matplotlib.patches as mpatches\n",
        "import scipy.stats as stats\n",
        "\n",
        "X = stats.norm.rvs(size=1000)\n",
        "X.sort()\n",
        "fig, ax = plt.subplots()\n",
        "\n",
        "ax.plot(X, stats.norm.pdf(X, loc=0, scale=1))\n",
        "ax.set_xlabel('x')\n",
        "ax.set_ylabel('pdf(x)')\n",
        "ax.grid(True)\n",
        "px=np.arange(-3, 1.645, 0.01)\n",
        "ax.set_xlim(-3, 3)\n",
        "full_range = np.arange(-3, 3, 0.01)\n",
        "ax.fill_between(full_range, stats.norm.pdf(full_range,loc=0,scale=1), color='b')\n",
        "ax.fill_between(px,stats.norm.pdf(px, loc=0, scale=1), color='r')\n",
        "plt.title('The shaded part represents a one tailed null hypothesis')\n",
        "red_patch = mpatches.Patch(color='red', label=f'$H_0$ = likely observations')\n",
        "blue_patch = mpatches.Patch(color='blue', label=f'$H_a$ = unlikely observations')\n",
        "plt.legend(handles=[red_patch, blue_patch])\n",
        "plt.show()"
      ]
    },
    {
      "cell_type": "code",
      "source": [
        "import scipy.stats as stats\n",
        "\n",
        "# Parameters\n",
        "alpha = 0.05  # Significance level (95% CI)\n",
        "degrees_of_freedom = 29  # Example degrees of freedom (n=30)\n",
        "\n",
        "# Critical Value for Right-Tailed Test\n",
        "critical_value = stats.t.ppf(1 - alpha, df=degrees_of_freedom)\n",
        "\n",
        "print(f\"Critical Value: {critical_value:.3f}\")\n",
        "\n",
        "# Example 1: Test Statistic Greater Than Critical Value (Reject Null)\n",
        "test_statistic_greater = 2.5  # Example test statistic\n",
        "print(f\"Test Statistic (Greater): {test_statistic_greater:.3f}\")\n",
        "\n",
        "if test_statistic_greater > critical_value:\n",
        "    print(\"Reject the null hypothesis (test statistic > critical value)\")\n",
        "else:\n",
        "    print(\"Fail to reject the null hypothesis (test statistic <= critical value)\")\n",
        "\n",
        "p_value_greater = 1 - stats.t.cdf(test_statistic_greater, df = degrees_of_freedom)\n",
        "print(f\"P-value: {p_value_greater:.4f}\")\n",
        "\n"
      ],
      "metadata": {
        "colab": {
          "base_uri": "https://localhost:8080/"
        },
        "id": "vDQYUCpMjt64",
        "outputId": "28a89d02-d4f5-4197-80ef-b613ce4b3b03"
      },
      "id": "vDQYUCpMjt64",
      "execution_count": null,
      "outputs": [
        {
          "output_type": "stream",
          "name": "stdout",
          "text": [
            "Critical Value: 1.699\n",
            "Test Statistic (Greater): 2.500\n",
            "Reject the null hypothesis (test statistic > critical value)\n",
            "P-value: 0.0092\n"
          ]
        }
      ]
    },
    {
      "cell_type": "code",
      "source": [
        "import scipy.stats as stats\n",
        "\n",
        "# Parameters\n",
        "alpha = 0.05  # Significance level (95% CI)\n",
        "degrees_of_freedom = 999  # Example degrees of freedom (n=1000)\n",
        "\n",
        "# Critical Value for Right-Tailed Test\n",
        "critical_value = stats.t.ppf(1 - alpha, df=degrees_of_freedom)\n",
        "\n",
        "print(f\"Critical Value: {critical_value:.3f}\")\n",
        "\n",
        "# Example 1: Test Statistic Greater Than Critical Value (Reject Null)\n",
        "test_statistic_greater = 2.5  # Example test statistic\n",
        "print(f\"Test Statistic (Greater): {test_statistic_greater:.3f}\")\n",
        "\n",
        "if test_statistic_greater > critical_value:\n",
        "    print(\"Reject the null hypothesis (test statistic > critical value)\")\n",
        "else:\n",
        "    print(\"Fail to reject the null hypothesis (test statistic <= critical value)\")\n",
        "\n",
        "p_value_greater = 1 - stats.t.cdf(test_statistic_greater, df = degrees_of_freedom)\n",
        "print(f\"P-value: {p_value_greater:.4f}\")"
      ],
      "metadata": {
        "colab": {
          "base_uri": "https://localhost:8080/"
        },
        "id": "iV_YsUkeLTO-",
        "outputId": "c618d3d9-205f-4fb5-8afc-463ee751e5f3"
      },
      "id": "iV_YsUkeLTO-",
      "execution_count": null,
      "outputs": [
        {
          "output_type": "stream",
          "name": "stdout",
          "text": [
            "Critical Value: 1.646\n",
            "Test Statistic (Greater): 2.500\n",
            "Reject the null hypothesis (test statistic > critical value)\n",
            "P-value: 0.0063\n"
          ]
        }
      ]
    },
    {
      "cell_type": "markdown",
      "source": [
        "## Example 2"
      ],
      "metadata": {
        "id": "wPFerrglke7v"
      },
      "id": "wPFerrglke7v"
    },
    {
      "cell_type": "code",
      "source": [
        "# Example 2: Test Statistic Less Than Critical Value (Fail to Reject Null)\n",
        "test_statistic_less = 1.5  # Example test statistic\n",
        "print(f\"Test Statistic (Less): {test_statistic_less:.3f}\")\n",
        "\n",
        "if test_statistic_less > critical_value:\n",
        "    print(\"Reject the null hypothesis (test statistic > critical value)\")\n",
        "else:\n",
        "    print(\"Fail to reject the null hypothesis (test statistic <= critical value)\")\n",
        "\n",
        "p_value_less = 1 - stats.t.cdf(test_statistic_less, df = degrees_of_freedom)\n",
        "print(f\"P-value: {p_value_less:.4f}\")\n",
        "\n",
        "#Z test examples.\n",
        "critical_z = stats.norm.ppf(1 - alpha)\n",
        "# critical_value = stats.t.ppf(1 - alpha, df=degrees_of_freedom)\n",
        "print(f\"Critical Z Value: {critical_z:.3f}\")\n",
        "\n",
        "test_z_greater = 2.5\n",
        "print(f\"Test Z Statistic (Greater): {test_z_greater:.3f}\")\n",
        "if test_z_greater > critical_z:\n",
        "    print(\"Reject the null hypothesis (test statistic > critical value)\")\n",
        "else:\n",
        "    print(\"Fail to reject the null hypothesis (test statistic <= critical value)\")\n",
        "\n",
        "p_value_z_greater = 1 - stats.norm.cdf(test_z_greater)\n",
        "print(f\"P-value: {p_value_z_greater:.4f}\")\n",
        "\n",
        "test_z_less = 1.5\n",
        "print(f\"Test Z Statistic (Less): {test_z_less:.3f}\")\n",
        "\n",
        "if test_z_less > critical_z:\n",
        "    print(\"Reject the null hypothesis (test statistic > critical value)\")\n",
        "else:\n",
        "    print(\"Fail to reject the null hypothesis (test statistic <= critical value)\")\n",
        "p_value_z_less = 1 - stats.norm.cdf(test_z_less)\n",
        "print(f\"P-value: {p_value_z_less:.4f}\")"
      ],
      "metadata": {
        "colab": {
          "base_uri": "https://localhost:8080/"
        },
        "id": "7eXpYji4kd-V",
        "outputId": "d6b541c4-45ff-4c05-9c6c-0d2bc79a3ef3"
      },
      "id": "7eXpYji4kd-V",
      "execution_count": null,
      "outputs": [
        {
          "output_type": "stream",
          "name": "stdout",
          "text": [
            "Test Statistic (Less): 1.500\n",
            "Fail to reject the null hypothesis (test statistic <= critical value)\n",
            "P-value: 0.0722\n",
            "Critical Z Value: 1.645\n",
            "Test Z Statistic (Greater): 2.500\n",
            "Reject the null hypothesis (test statistic > critical value)\n",
            "P-value: 0.0062\n",
            "Test Z Statistic (Less): 1.500\n",
            "Fail to reject the null hypothesis (test statistic <= critical value)\n",
            "P-value: 0.0668\n"
          ]
        }
      ]
    },
    {
      "cell_type": "markdown",
      "source": [
        "## When to use Sigma vs Standard Error\n",
        "\n",
        "**1. `(x - avg(x)) / sigma`**\n",
        "\n",
        "* **What it calculates:** This calculates the **z-score for an individual data point (x)** within a distribution. It tells you how many standard deviations a specific value is away from the mean of the distribution.\n",
        "* **When to use it:**\n",
        "    * When you want to know how unusual or extreme a single observation is within a dataset.\n",
        "    * When you are working with a single data point and want to standardize it.\n",
        "    * **Example:** You have a dataset of student test scores, and you want to know how many standard deviations above or below the mean a particular student's score is.\n",
        "\n",
        "**2. `(x - avg(x)) / (sigma / sqrt(n))`**\n",
        "\n",
        "* **What it calculates:** This calculates the **z-score for a sample mean (x̄)**. It tells you how many standard errors the sample mean is away from the population mean.\n",
        "* **When to use it:**\n",
        "    * When you are conducting a z-test to compare a sample mean to a population mean.\n",
        "    * When you are working with a sample of data and want to standardize the sample mean.\n",
        "    * **Example:** You want to test whether the average height of a sample of trees is significantly different from the known average height of trees in a forest.\n",
        "\n",
        "**Key Differences**\n",
        "\n",
        "* **Individual vs. Sample Mean:** The first formula deals with an individual data point, while the second deals with a sample mean.\n",
        "* **Standard Deviation vs. Standard Error:** The first formula uses the standard deviation (σ) of the population, while the second uses the standard error of the mean (σ / √n). The standard error accounts for the variability of sample means.\n",
        "\n",
        "**In Summary**\n",
        "\n",
        "* Use the first formula (`(x - avg(x)) / sigma`) when working with individual data points.\n",
        "* Use the second formula (`(x - avg(x)) / (sigma / sqrt(n))`) when working with sample means and conducting hypothesis tests."
      ],
      "metadata": {
        "id": "m5Kva7KWzcEF"
      },
      "id": "m5Kva7KWzcEF"
    },
    {
      "cell_type": "code",
      "execution_count": null,
      "id": "89eedc07",
      "metadata": {
        "id": "89eedc07",
        "outputId": "3a78b030-9ce0-4af3-fbde-76b8fb56612f",
        "colab": {
          "base_uri": "https://localhost:8080/",
          "height": 472
        }
      },
      "outputs": [
        {
          "output_type": "display_data",
          "data": {
            "text/plain": [
              "<Figure size 640x480 with 1 Axes>"
            ],
            "image/png": "[encoded data removed]"
          },
          "metadata": {}
        }
      ],
      "source": [
        "# example of two tailed hypothesis\n",
        "x = np.linspace(-3, 3, 1000)\n",
        "\n",
        "fig, ax = plt.subplots()\n",
        "ax.plot(x, stats.norm.pdf(x,loc=0,scale=1))\n",
        "ax.set_xlabel('x')\n",
        "ax.set_ylabel('pdf(x)')\n",
        "ax.grid(True)\n",
        "stds = 1.96 # how many standard deviations from the mean\n",
        "full_range = np.arange(-3, 3, 0.01)\n",
        "ax.fill_between(full_range, stats.norm.pdf(full_range,loc=0,scale=1), color='b')\n",
        "px=np.arange(-stds,stds,0.01)\n",
        "ax.fill_between(px,stats.norm.pdf(px,loc=0,scale=1), color='r')\n",
        "plt.title('The shaded part represents a two tailed null hypothesis')\n",
        "red_patch = mpatches.Patch(color='red', label=f'$H_0$ = likely observations')\n",
        "blue_patch = mpatches.Patch(color='blue', label=f'$H_a$ = unlikely observations')\n",
        "plt.legend(handles=[red_patch, blue_patch])\n",
        "plt.show()"
      ]
    },
    {
      "cell_type": "code",
      "source": [
        "import scipy.stats as stats\n",
        "\n",
        "# Z-distribution\n",
        "confidence_level_z = 0.95\n",
        "alpha_z = 1 - confidence_level_z\n",
        "critical_value_z = stats.norm.ppf(1 - alpha_z / 2)\n",
        "critical_value_z_right_tailed = stats.norm.ppf(1 - alpha_z)\n",
        "critical_value_z_left_tailed = stats.norm.ppf(alpha_z)\n",
        "\n",
        "print(f\"Z-distribution critical value (95% confidence): ±{critical_value_z:.3f}\")\n",
        "print(f\"Z-distribution critical value (95% CI, right-tailed): {critical_value_z_right_tailed:.3f}\")\n",
        "print(f\"Z-distribution critical value (95% CI, left-tailed): {critical_value_z_left_tailed:.3f}\")\n",
        "\n",
        "# T-distribution (small sample, unknown population standard deviation)\n",
        "confidence_level_t = 0.95\n",
        "degrees_of_freedom = 19  # Example: sample size of 20 (n-1)\n",
        "alpha_t = 1 - confidence_level_t\n",
        "critical_value_t = stats.t.ppf(1 - alpha_t / 2, df=degrees_of_freedom)  # Two-tailed\n",
        "\n",
        "degrees_of_freedom_one_tail = 19 #Example\n",
        "confidence_level_t_one_tail = 0.95\n",
        "alpha_t_one_tail = 1 - confidence_level_t_one_tail\n",
        "\n",
        "critical_value_t_one_tail_right = stats.t.ppf(1-alpha_t_one_tail, df = degrees_of_freedom_one_tail)\n",
        "critical_value_t_one_tail_left = stats.t.ppf(alpha_t_one_tail, df = degrees_of_freedom_one_tail)\n",
        "\n",
        "print(f\"T-distribution critical value (95% confidence, df={degrees_of_freedom}): ±{critical_value_t:.3f}\")\n",
        "print(f\"T-distribution critical value, Right tail (95% confidence, df={degrees_of_freedom_one_tail}): {critical_value_t_one_tail_right:.3f}\")\n",
        "print(f\"T-distribution critical value, Left tail (95% confidence, df={degrees_of_freedom_one_tail}): {critical_value_t_one_tail_left:.3f}\")"
      ],
      "metadata": {
        "colab": {
          "base_uri": "https://localhost:8080/"
        },
        "id": "KQAE3B07c37Q",
        "outputId": "3aeea3d7-3bd7-4b00-eaeb-4a7f0fa0f3f0"
      },
      "id": "KQAE3B07c37Q",
      "execution_count": null,
      "outputs": [
        {
          "output_type": "stream",
          "name": "stdout",
          "text": [
            "Z-distribution critical value (95% confidence): ±1.960\n",
            "Z-distribution critical value (95% CI, right-tailed): 1.645\n",
            "Z-distribution critical value (95% CI, left-tailed): -1.645\n",
            "T-distribution critical value (95% confidence, df=19): ±2.093\n",
            "T-distribution critical value, Right tail (95% confidence, df=19): 1.729\n",
            "T-distribution critical value, Left tail (95% confidence, df=19): -1.729\n"
          ]
        }
      ]
    },
    {
      "cell_type": "code",
      "source": [
        "import scipy.stats as stats\n",
        "\n",
        "# Z-distribution (95% Confidence Interval)\n",
        "confidence_level_z = 0.95\n",
        "alpha_z = 1 - confidence_level_z\n",
        "\n",
        "# Two-tailed test\n",
        "critical_value_z_two_tailed = stats.norm.ppf(1 - alpha_z / 2)\n",
        "\n",
        "print(f\"Z-distribution critical values (95% CI, two-tailed): ±{critical_value_z_two_tailed:.3f}\")\n",
        "\n",
        "# One-tailed test (right-tailed)\n",
        "critical_value_z_right_tailed = stats.norm.ppf(1 - alpha_z)\n",
        "\n",
        "print(f\"Z-distribution critical value (95% CI, right-tailed): {critical_value_z_right_tailed:.3f}\")\n",
        "\n",
        "# One-tailed test (left-tailed)\n",
        "critical_value_z_left_tailed = stats.norm.ppf(alpha_z)\n",
        "\n",
        "print(f\"Z-distribution critical value (95% CI, left-tailed): {critical_value_z_left_tailed:.3f}\")"
      ],
      "metadata": {
        "colab": {
          "base_uri": "https://localhost:8080/"
        },
        "id": "1KcYN39hdKYk",
        "outputId": "cc755fc0-eb02-4b92-b940-b1d934a060ff"
      },
      "id": "1KcYN39hdKYk",
      "execution_count": null,
      "outputs": [
        {
          "output_type": "stream",
          "name": "stdout",
          "text": [
            "Z-distribution critical values (95% CI, two-tailed): ±1.960\n",
            "Z-distribution critical value (95% CI, right-tailed): 1.645\n",
            "Z-distribution critical value (95% CI, left-tailed): -1.645\n"
          ]
        }
      ]
    },
    {
      "cell_type": "markdown",
      "source": [
        "## z-Distribution vs. t-Distribution\n",
        "\n",
        "**Key Differences**\n",
        "\n",
        "* **Z-distribution:**\n",
        "    * Used when you know the population standard deviation or when you have a very large sample size.\n",
        "    * It's the standard normal distribution.\n",
        "    * The critical value of 1.96 is a fixed value for a 95% confidence interval in a two-tailed z-distribution.\n",
        "* **T-distribution:**\n",
        "    * Used when you don't know the population standard deviation and you're working with a smaller sample size.\n",
        "    * It accounts for the added uncertainty that comes with estimating the standard deviation from a sample.\n",
        "    * The t-distribution's shape changes based on the \"degrees of freedom,\" which are related to the sample size (typically, degrees of freedom = sample size - 1).\n",
        "    * Therefore, the critical values for a t-distribution vary.\n",
        "\n",
        "**Why the Variation?**\n",
        "\n",
        "* **Degrees of Freedom:**\n",
        "    * When you have a smaller sample size (fewer degrees of freedom), the t-distribution has heavier tails than the z-distribution. This means you need to go further out on the tails to capture the same level of confidence.\n",
        "    * As the sample size increases (more degrees of freedom), the t-distribution approaches the z-distribution.\n",
        "    * Therefore with smaller sample sizes the T distribution critical values will be larger than 1.96.\n",
        "* **Example:**\n",
        "    * If you have a small sample size, say 20, the critical t-value for a 95% confidence interval will be larger than 1.96 (like the 2.086 you mentioned).\n",
        "    * If you had a very large sample size, the t-value would be very close to 1.96.\n",
        "\n",
        "**In essence:**\n",
        "\n",
        "* 1.96 is the correct critical value for a 95% confidence interval when using the z-distribution.\n",
        "* Values like 2.086 are correct critical values for a 95% confidence interval when using the t-distribution, and the exact value depends on the degrees of freedom."
      ],
      "metadata": {
        "id": "40k9mzWrcWJE"
      },
      "id": "40k9mzWrcWJE"
    },
    {
      "cell_type": "markdown",
      "source": [
        "```python\n",
        "import scipy.stats as stats\n",
        "\n",
        "# Z-distribution (large sample or known population standard deviation)\n",
        "confidence_level_z = 0.95\n",
        "alpha_z = 1 - confidence_level_z\n",
        "critical_value_z = stats.norm.ppf(1 - alpha_z / 2)  # Two-tailed\n",
        "\n",
        "print(f\"Z-distribution critical value (95% confidence): ±{critical_value_z:.3f}\")\n",
        "\n",
        "# T-distribution (small sample, unknown population standard deviation)\n",
        "confidence_level_t = 0.95\n",
        "degrees_of_freedom = 19  # Example: sample size of 20 (n-1)\n",
        "alpha_t = 1 - confidence_level_t\n",
        "critical_value_t = stats.t.ppf(1 - alpha_t / 2, df=degrees_of_freedom)  # Two-tailed\n",
        "\n",
        "print(f\"T-distribution critical value (95% confidence, df={degrees_of_freedom}): ±{critical_value_t:.3f}\")\n",
        "\n",
        "#One tailed T test.\n",
        "\n",
        "degrees_of_freedom_one_tail = 19 #Example\n",
        "confidence_level_t_one_tail = 0.95\n",
        "alpha_t_one_tail = 1 - confidence_level_t_one_tail\n",
        "\n",
        "critical_value_t_one_tail_right = stats.t.ppf(1-alpha_t_one_tail, df = degrees_of_freedom_one_tail)\n",
        "critical_value_t_one_tail_left = stats.t.ppf(alpha_t_one_tail, df = degrees_of_freedom_one_tail)\n",
        "\n",
        "print(f\"T-distribution critical value, Right tail (95% confidence, df={degrees_of_freedom_one_tail}): {critical_value_t_one_tail_right:.3f}\")\n",
        "print(f\"T-distribution critical value, Left tail (95% confidence, df={degrees_of_freedom_one_tail}): {critical_value_t_one_tail_left:.3f}\")\n",
        "```\n",
        "\n",
        "**Explanation:**\n",
        "\n",
        "1.  **Import `scipy.stats`:**\n",
        "    * This library provides functions for statistical distributions.\n",
        "\n",
        "2.  **Z-distribution:**\n",
        "    * `stats.norm.ppf(1 - alpha_z / 2)`:\n",
        "        * `stats.norm.ppf()` calculates the inverse cumulative distribution function (also called the quantile function) for the standard normal distribution.\n",
        "        * `1 - alpha_z / 2` calculates the cumulative probability up to the critical value in the right tail (for a two-tailed test).\n",
        "        * The result is the z-score.\n",
        "    * The code then prints the positive and negative critical values.\n",
        "\n",
        "3.  **T-distribution:**\n",
        "    * `degrees_of_freedom`: This is set to 19 as an example (sample size of 20). Change this value according to your sample size.\n",
        "    * `stats.t.ppf(1 - alpha_t / 2, df=degrees_of_freedom)`:\n",
        "        * `stats.t.ppf()` calculates the inverse cumulative distribution function for the t-distribution.\n",
        "        * `df=degrees_of_freedom` specifies the degrees of freedom.\n",
        "    * The code prints the positive and negative critical t-values.\n",
        "\n",
        "4.  **One tailed T-distribution:**\n",
        "    * `stats.t.ppf(1-alpha_t_one_tail, df = degrees_of_freedom_one_tail)` calculates the critical value for a right tailed test.\n",
        "    * `stats.t.ppf(alpha_t_one_tail, df = degrees_of_freedom_one_tail)` calculates the critical value for a left tailed test.\n",
        "    * The code prints the critical t-values.\n",
        "\n",
        "**Key points:**\n",
        "\n",
        "* Remember to adjust the `degrees_of_freedom` variable in the t-distribution calculation to match your sample size.\n",
        "* `ppf` is the percentile point function, also known as the inverse CDF. It gives you the value on the x-axis for a given cumulative probability.\n",
        "* This code demonstrates how the critical values change when using the t-distribution compared to the z-distribution, especially with a smaller sample size.\n"
      ],
      "metadata": {
        "id": "3k5Rzm3TciSo"
      },
      "id": "3k5Rzm3TciSo"
    }
  ],
  "metadata": {
    "kernelspec": {
      "display_name": "Python 3 (ipykernel)",
      "language": "python",
      "name": "python3"
    },
    "language_info": {
      "codemirror_mode": {
        "name": "ipython",
        "version": 3
      },
      "file_extension": ".py",
      "mimetype": "text/x-python",
      "name": "python",
      "nbconvert_exporter": "python",
      "pygments_lexer": "ipython3",
      "version": "3.9.7"
    },
    "colab": {
      "provenance": [],
      "toc_visible": true,
      "include_colab_link": true
    }
  },
  "nbformat": 4,
  "nbformat_minor": 5
}